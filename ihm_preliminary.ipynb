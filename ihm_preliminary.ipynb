{
 "cells": [
  {
   "cell_type": "markdown",
   "metadata": {},
   "source": [
    "# Preliminary experiment - distilled dataset for in-hospital mortality prediction task"
   ]
  },
  {
   "cell_type": "markdown",
   "metadata": {},
   "source": [
    "## 📖 Libraries"
   ]
  },
  {
   "cell_type": "markdown",
   "metadata": {},
   "source": [
    "✅ Dependencies.\n",
    "\n",
    "For cuda, define `device` that'll be used throughout the notebook."
   ]
  },
  {
   "cell_type": "code",
   "execution_count": 1,
   "metadata": {},
   "outputs": [
    {
     "name": "stdout",
     "output_type": "stream",
     "text": [
      "Device: cuda\n"
     ]
    }
   ],
   "source": [
    "import torch\n",
    "from torch.utils.data import DataLoader\n",
    "import importlib\n",
    "import numpy as np\n",
    "import torch.nn as nn\n",
    "import time\n",
    "from tqdm.notebook import tqdm\n",
    "import copy\n",
    "import os\n",
    "import pickle\n",
    "from glob import glob\n",
    "\n",
    "DEVICE = 'cuda' if torch.cuda.is_available() else 'cpu'\n",
    "print(f\"Device: {DEVICE}\")"
   ]
  },
  {
   "cell_type": "markdown",
   "metadata": {},
   "source": [
    "✅ Custom libs. **Always re-run the following code block after modifying `utils`**."
   ]
  },
  {
   "cell_type": "code",
   "execution_count": 18,
   "metadata": {},
   "outputs": [
    {
     "data": {
      "text/plain": [
       "<module 'utils.report' from '/project/ruishanl_1185/EHR-Distillation/utils/report.py'>"
      ]
     },
     "execution_count": 18,
     "metadata": {},
     "output_type": "execute_result"
    }
   ],
   "source": [
    "from utils import preprocess, dataset, network, train, report\n",
    "importlib.reload(preprocess)\n",
    "importlib.reload(dataset)\n",
    "importlib.reload(network)\n",
    "importlib.reload(train)\n",
    "importlib.reload(report)"
   ]
  },
  {
   "cell_type": "markdown",
   "metadata": {},
   "source": [
    "## 📊 Data preparation"
   ]
  },
  {
   "cell_type": "markdown",
   "metadata": {},
   "source": [
    "✅ Compute statistics that'll be used for imputation and dataloading.\n",
    "\n",
    "Statistics can be load from saved pickle."
   ]
  },
  {
   "cell_type": "code",
   "execution_count": 3,
   "metadata": {},
   "outputs": [],
   "source": [
    "LOAD_FROM_SAVED = True\n",
    "STAT_PKL_DIR = \"./saved_data/stats/\"\n",
    "if not os.path.exists(STAT_PKL_DIR):\n",
    "    os.makedirs(STAT_PKL_DIR)\n",
    "\n",
    "categorical_numcls = {  # how many classes are there for categorical classes\n",
    "    \"capillary_refill_rate\": 2,\n",
    "    \"glascow_coma_scale_eye_opening\": 4,\n",
    "    \"glascow_coma_scale_motor_response\": 6,\n",
    "    \"glascow_coma_scale_total\": 13,\n",
    "    \"glascow_coma_scale_verbal_response\": 5,\n",
    "}\n",
    "\n",
    "pkl_path = os.path.join(STAT_PKL_DIR, \"ihm_preliminary.pkl\")\n",
    "if os.path.exists(pkl_path) and LOAD_FROM_SAVED:\n",
    "    with open(pkl_path, 'rb') as f:\n",
    "        continuous_avgs_train, continuous_stds_train, categorical_modes_train = pickle.load(f)\n",
    "else:\n",
    "    continuous_avgs_train, continuous_stds_train, categorical_modes_train =  preprocess.compute_feature_statistics(\n",
    "        ts_dir=\"./data/mimic3/benchmark/in-hospital-mortality/train/\",\n",
    "        feature_dict=preprocess.mimic3_benchmark_variable_dict\n",
    "        )\n",
    "    with open(pkl_path, 'wb') as f:\n",
    "        pickle.dump((continuous_avgs_train, continuous_stds_train, categorical_modes_train), f)"
   ]
  },
  {
   "cell_type": "markdown",
   "metadata": {},
   "source": [
    "Clean all data by resampling, imputating and masking.\n",
    "\n",
    "**Running this block once is enough.**\n",
    "(Cleaned data will be saved at ./data/mimic3/ihm_preliminary/)"
   ]
  },
  {
   "cell_type": "code",
   "execution_count": null,
   "metadata": {},
   "outputs": [],
   "source": [
    "preprocess.preprocess_ihm_timeseries_files(\n",
    "    ts_dir=\"./data/mimic3/benchmark/in-hospital-mortality/train/\",\n",
    "    output_dir=\"./data/mimic3/ihm_preliminary/train/\",\n",
    "    feature_dict=preprocess.mimic3_benchmark_variable_dict,\n",
    "    normal_value_dict=continuous_avgs_train|categorical_modes_train\n",
    "    )\n",
    "preprocess.preprocess_ihm_timeseries_files(\n",
    "    ts_dir=\"./data/mimic3/benchmark/in-hospital-mortality/test/\",\n",
    "    output_dir=\"./data/mimic3/ihm_preliminary/test/\",\n",
    "    feature_dict=preprocess.mimic3_benchmark_variable_dict,\n",
    "    normal_value_dict=continuous_avgs_train|categorical_modes_train\n",
    "    )"
   ]
  },
  {
   "cell_type": "markdown",
   "metadata": {},
   "source": [
    "✅ Define original mimic3 benchmark training and evaluation datasets for IHM objective.\n",
    "\n",
    "Apply mask / balance to the dataset here.\n",
    "\n",
    "You may have to re-run this block after modifying dataloader-related codes."
   ]
  },
  {
   "cell_type": "code",
   "execution_count": 4,
   "metadata": {},
   "outputs": [
    {
     "name": "stdout",
     "output_type": "stream",
     "text": [
      "First item in the dataset: \n",
      "(tensor([[ 1.0000,  0.0000,  0.0000,  ...,  0.0000,  0.0000,  0.0000],\n",
      "        [ 1.0000,  0.0000,  0.0668,  ...,  0.0000,  0.0000,  0.0000],\n",
      "        [ 1.0000,  0.0000,  0.0489,  ...,  0.0220,  0.0000,  0.0000],\n",
      "        ...,\n",
      "        [ 1.0000,  0.0000,  0.0980,  ..., -0.0870,  4.1913,  0.0000],\n",
      "        [ 1.0000,  0.0000,  0.1293,  ..., -0.0870,  4.1913,  0.0000],\n",
      "        [ 1.0000,  0.0000,  0.0176,  ..., -0.0870,  4.1913,  0.0000]]), tensor(0))\n",
      "Feature tensor shape: torch.Size([48, 42])\n",
      "First item in the dataset: \n",
      "(tensor([[ 1.0000,  0.0000,  0.0310,  ..., -0.1730, -0.8523,  0.0391],\n",
      "        [ 1.0000,  0.0000,  0.0578,  ..., -0.1615, -0.8523,  0.0391],\n",
      "        [ 1.0000,  0.0000,  0.0623,  ..., -0.1615, -0.8523,  0.0391],\n",
      "        ...,\n",
      "        [ 1.0000,  0.0000,  0.0132,  ...,  0.0335, -0.5163,  0.0521],\n",
      "        [ 1.0000,  0.0000,  0.0087,  ...,  0.0335, -0.5163,  0.0521],\n",
      "        [ 1.0000,  0.0000,  0.0400,  ...,  0.0335, -0.5163,  0.0521]]), tensor(0))\n",
      "Feature tensor shape: torch.Size([48, 42])\n",
      "Input tensor shape: torch.Size([48, 42])\n"
     ]
    }
   ],
   "source": [
    "# Pay attention to balance and mask settings\n",
    "\n",
    "BALANCE = False\n",
    "MASK = False\n",
    "\n",
    "train_set = dataset.IHMPreliminaryDatasetReal(\n",
    "    dir=\"./data/mimic3/ihm_preliminary/train/\",\n",
    "    dstype=\"train\",\n",
    "    avg_dict=continuous_avgs_train,\n",
    "    std_dict=continuous_stds_train,\n",
    "    numcls_dict=categorical_numcls,\n",
    "    balance=BALANCE,\n",
    "    mask=MASK,\n",
    "    )\n",
    "print(f\"First item in the dataset: \\n{train_set[0]}\")\n",
    "print(f\"Feature tensor shape: {train_set[0][0].shape}\")\n",
    "\n",
    "test_set = dataset.IHMPreliminaryDatasetReal(\n",
    "    dir=\"./data/mimic3/ihm_preliminary/test/\",\n",
    "    dstype=\"test\",\n",
    "    avg_dict=continuous_avgs_train,\n",
    "    std_dict=continuous_stds_train,\n",
    "    numcls_dict=categorical_numcls,\n",
    "    balance=BALANCE,\n",
    "    mask=MASK,\n",
    "    )\n",
    "print(f\"First item in the dataset: \\n{test_set[0]}\")\n",
    "print(f\"Feature tensor shape: {test_set[0][0].shape}\")\n",
    "\n",
    "input_shape = train_set[0][0].shape\n",
    "print(f\"Input tensor shape: {input_shape}\")"
   ]
  },
  {
   "cell_type": "markdown",
   "metadata": {},
   "source": [
    "See the label distribution in the datasets."
   ]
  },
  {
   "cell_type": "code",
   "execution_count": 8,
   "metadata": {},
   "outputs": [
    {
     "name": "stdout",
     "output_type": "stream",
     "text": [
      "Total datapoints: 17904\n",
      "Label 0 ratio: 0.8646112600536193\n",
      "Label 1 ratio: 0.1353887399463807\n"
     ]
    }
   ],
   "source": [
    "label_0_cnt = 0\n",
    "label_1_cnt = 1\n",
    "for _, label in test_set:\n",
    "    if label > 0.5:\n",
    "        label_1_cnt += 1\n",
    "    else:\n",
    "        label_0_cnt += 1\n",
    "print(f\"Total datapoints: {label_0_cnt + label_1_cnt}\")\n",
    "print(f\"Label 0 ratio: {label_0_cnt / (label_0_cnt + label_1_cnt)}\")\n",
    "print(f\"Label 1 ratio: {label_1_cnt / (label_0_cnt + label_1_cnt)}\")"
   ]
  },
  {
   "cell_type": "markdown",
   "metadata": {},
   "source": [
    "## 💭 Evaluating model capacity on training objectives"
   ]
  },
  {
   "cell_type": "markdown",
   "metadata": {},
   "source": [
    "Train an 1D CNN and save the best performing weights."
   ]
  },
  {
   "cell_type": "code",
   "execution_count": null,
   "metadata": {},
   "outputs": [],
   "source": [
    "# define hyper params\n",
    "ihm_epoch = 100\n",
    "ihm_batch_size = 256\n",
    "ihm_lr = 1e-3\n",
    "ihm_wd = 1e-3\n",
    "\n",
    "# train 1D CNN\n",
    "\n",
    "PT_SAVE_DIR = \"./saved_data/ihm_model/\"\n",
    "if not os.path.exists(PT_SAVE_DIR):\n",
    "    os.makedirs(PT_SAVE_DIR)\n",
    "\n",
    "NUM_WORKERS = 8\n",
    "\n",
    "train_loader = DataLoader(train_set, ihm_batch_size, shuffle=True, num_workers=NUM_WORKERS)\n",
    "test_loader = DataLoader(test_set, ihm_batch_size, num_workers=NUM_WORKERS)\n",
    "\n",
    "model = network.IHMPreliminary1DCNN(input_shape=input_shape).to(DEVICE)\n",
    "optimizer = torch.optim.Adam(model.parameters(), lr=ihm_lr, weight_decay=ihm_wd)\n",
    "criterion = nn.CrossEntropyLoss()\n",
    "\n",
    "\n",
    "pbar = tqdm(range(ihm_epoch), desc=\"Training on original task\")\n",
    "min_loss = float(\"inf\")\n",
    "for e in pbar:\n",
    "    train_loss, train_acc = train.epoch(\"train\", train_loader, model, criterion, optimizer, device=DEVICE)\n",
    "    test_loss, test_acc = train.epoch(\"test\", test_loader, model, criterion, device=DEVICE)\n",
    "    if train_loss < min_loss:\n",
    "        filename = f'ihm_1dcnn_e{e}_trl{train_loss:.4f}_tel{test_loss:.4f}.pt'\n",
    "        file_path = os.path.join(PT_SAVE_DIR, filename)\n",
    "\n",
    "        # Remove the previous checkpoint if it exists\n",
    "        existing_pts = [f for f in os.listdir(PT_SAVE_DIR) if f.startswith(f'ihm_1dcnn_e{e}_') and f.endswith('.pt')]\n",
    "        for f in existing_pts:\n",
    "            os.remove(os.path.join(PT_SAVE_DIR, f))\n",
    "        torch.save({\n",
    "                'epoch': e,\n",
    "                'model_state_dict': model.state_dict(),\n",
    "                'optimizer_state_dict': optimizer.state_dict(),\n",
    "                'loss': train_loss,\n",
    "            }, file_path)\n",
    "    \n",
    "    pbar.set_description(f\"Training on original task, epoch {e}\\ntrain loss = {train_loss}, train acc = {train_acc}\\ntest loss = {test_loss}, test acc = {test_acc}\")"
   ]
  },
  {
   "cell_type": "markdown",
   "metadata": {},
   "source": [
    "Train an MLP and save the best performing weights."
   ]
  },
  {
   "cell_type": "code",
   "execution_count": null,
   "metadata": {},
   "outputs": [],
   "source": [
    "# define hyper params\n",
    "ihm_epoch = 100\n",
    "ihm_batch_size = 256\n",
    "ihm_lr = 1e-3\n",
    "ihm_wd = 1e-3\n",
    "\n",
    "# train MLP\n",
    "\n",
    "PT_SAVE_DIR = \"./saved_data/ihm_model/\"\n",
    "if not os.path.exists(PT_SAVE_DIR):\n",
    "    os.makedirs(PT_SAVE_DIR)\n",
    "\n",
    "NUM_WORKERS = 8\n",
    "\n",
    "train_loader = DataLoader(train_set, ihm_batch_size, shuffle=True, num_workers=NUM_WORKERS)\n",
    "test_loader = DataLoader(test_set, ihm_batch_size, num_workers=NUM_WORKERS)\n",
    "\n",
    "model = network.IHMPreliminaryMLP(input_shape=input_shape).to(DEVICE)\n",
    "optimizer = torch.optim.Adam(model.parameters(), lr=ihm_lr, weight_decay=ihm_wd)\n",
    "criterion = nn.CrossEntropyLoss()\n",
    "\n",
    "\n",
    "pbar = tqdm(range(ihm_epoch), desc=\"Training on original task\")\n",
    "min_loss = float(\"inf\")\n",
    "for e in pbar:\n",
    "    train_loss, train_acc = train.epoch(\"train\", train_loader, model, criterion, optimizer, device=DEVICE)\n",
    "    test_loss, test_acc = train.epoch(\"test\", test_loader, model, criterion, device=DEVICE)\n",
    "    if train_loss < min_loss:\n",
    "        filename = f'ihm_mlp_e{e}_trl{train_loss:.4f}_tel{test_loss:.4f}.pt'\n",
    "        file_path = os.path.join(PT_SAVE_DIR, filename)\n",
    "\n",
    "        # Remove the previous checkpoint if it exists\n",
    "        existing_pts = [f for f in os.listdir(PT_SAVE_DIR) if f.startswith(f'ihm_mlp_e{e}_') and f.endswith('.pt')]\n",
    "        for f in existing_pts:\n",
    "            os.remove(os.path.join(PT_SAVE_DIR, f))\n",
    "        torch.save({\n",
    "                'epoch': e,\n",
    "                'model_state_dict': model.state_dict(),\n",
    "                'optimizer_state_dict': optimizer.state_dict(),\n",
    "                'loss': train_loss,\n",
    "            }, file_path)\n",
    "    \n",
    "    pbar.set_description(f\"Training on original task, epoch {e}\\ntrain loss = {train_loss}, train acc = {train_acc}\\ntest loss = {test_loss}, test acc = {test_acc}\")"
   ]
  },
  {
   "cell_type": "markdown",
   "metadata": {},
   "source": [
    "Baselines: train the model with randomly sampled subset of datapoints"
   ]
  },
  {
   "cell_type": "code",
   "execution_count": null,
   "metadata": {},
   "outputs": [],
   "source": [
    "# choose model\n",
    "MODEL = [\"1dcnn\", \"mlp\"][1]\n",
    "\n",
    "# define hyper params\n",
    "EPOCH = 100\n",
    "BATCH_SIZE = 256\n",
    "LR = 1e-3\n",
    "WD = 1e-3\n",
    "\n",
    "PT_SAVE_DIR = \"./saved_data/ihm_model/\"\n",
    "if not os.path.exists(PT_SAVE_DIR):\n",
    "    os.makedirs(PT_SAVE_DIR)\n",
    "\n",
    "# define num sampled datapoints\n",
    "N_SAMPLES_PER_CLS = 10\n",
    "\n",
    "# Sample from class 0\n",
    "ts_class_0, lab_class_0 = train_set.random_sample_from_class(n_samples=N_SAMPLES_PER_CLS, cls=0, no_duplicate=True)\n",
    "# Sample from class 1\n",
    "ts_class_1, lab_class_1 = train_set.random_sample_from_class(n_samples=N_SAMPLES_PER_CLS, cls=1, no_duplicate=True)\n",
    "# Concatenate the time series data along the first dimension (batch size)\n",
    "ts_real = torch.cat((ts_class_0, ts_class_1), dim=0).to(DEVICE)\n",
    "# Concatenate the labels along the 0th dimension\n",
    "lab_real = torch.cat((lab_class_0, lab_class_1), dim=0).to(DEVICE)\n",
    "# print(ts_real.shape, lab_real.shape) # batch_size * num_time_steps * num_features\n",
    "\n",
    "sample_set = dataset.TensorDataset(ts_real, lab_real)\n",
    "\n",
    "# define dataloaders\n",
    "NUM_WORKERS = 8\n",
    "sample_loader = DataLoader(sample_set, batch_size=BATCH_SIZE)\n",
    "test_loader = DataLoader(test_set, batch_size=BATCH_SIZE, num_workers=NUM_WORKERS)\n",
    "\n",
    "if MODEL == \"1dcnn\":\n",
    "    model = network.IHMPreliminary1DCNN(input_shape=input_shape).to(DEVICE)\n",
    "else:\n",
    "    model = network.IHMPreliminaryMLP(input_shape=input_shape).to(DEVICE)\n",
    "\n",
    "optimizer = torch.optim.Adam(model.parameters(), lr=LR, weight_decay=WD)\n",
    "loss_fn = nn.CrossEntropyLoss()\n",
    "\n",
    "\n",
    "pbar = tqdm(range(EPOCH), desc=f\"Training on sampled dataset (size={2*N_SAMPLES_PER_CLS})\")\n",
    "min_loss = float(\"inf\")\n",
    "for e in pbar:\n",
    "    train_loss, train_acc = train.epoch(\"train\", sample_loader, model, loss_fn, optimizer, device=DEVICE) # attention: using sampled dataset\n",
    "    test_loss, test_acc = train.epoch(\"test\", test_loader, model, loss_fn, device=DEVICE)\n",
    "    if train_loss < min_loss:\n",
    "        filename = f'ihm_{MODEL}_spc{N_SAMPLES_PER_CLS}_e{e}_trl{train_loss:.4f}_tel{test_loss:.4f}.pt'\n",
    "        file_path = os.path.join(PT_SAVE_DIR, filename)\n",
    "\n",
    "        # Remove the previous checkpoint if it exists\n",
    "        existing_pts = [f for f in os.listdir(PT_SAVE_DIR) if f.startswith(f'ihm_{MODEL}_spc{N_SAMPLES_PER_CLS}_e{e}_') and f.endswith('.pt')]\n",
    "        for f in existing_pts:\n",
    "            os.remove(os.path.join(PT_SAVE_DIR, f))\n",
    "        torch.save({\n",
    "                'epoch': e,\n",
    "                'model_state_dict': model.state_dict(),\n",
    "                'optimizer_state_dict': optimizer.state_dict(),\n",
    "                'loss': train_loss,\n",
    "            }, file_path)\n",
    "    \n",
    "    pbar.set_postfix({\"train loss\": f\"{train_loss:.4f}\",\n",
    "                      \"train acc\": f\"{train_acc*100:.2f}%\",\n",
    "                      \"test loss\": f\"{test_loss:.4f}\",\n",
    "                      \"test acc\": f\"{test_acc*100:.2f}%\",\n",
    "                      })"
   ]
  },
  {
   "cell_type": "markdown",
   "metadata": {},
   "source": [
    "Load a saved model and evaluate on evaluation set."
   ]
  },
  {
   "cell_type": "code",
   "execution_count": 29,
   "metadata": {},
   "outputs": [
    {
     "data": {
      "image/png": "[encoded data removed]",
      "text/plain": [
       "<Figure size 1000x1000 with 2 Axes>"
      ]
     },
     "metadata": {},
     "output_type": "display_data"
    },
    {
     "data": {
      "image/png": "[encoded data removed]",
      "text/plain": [
       "<Figure size 1200x600 with 1 Axes>"
      ]
     },
     "metadata": {},
     "output_type": "display_data"
    },
    {
     "name": "stdout",
     "output_type": "stream",
     "text": [
      "Macro AUC-ROC score: 0.7190892461425202\n"
     ]
    },
    {
     "data": {
      "text/plain": [
       "(array([[1903,  959],\n",
       "        [ 109,  265]]),\n",
       " {'0': {'precision': 0.9458250497017893,\n",
       "   'recall': 0.6649196366177498,\n",
       "   'f1-score': 0.780878128846943,\n",
       "   'support': 2862},\n",
       "  '1': {'precision': 0.21650326797385622,\n",
       "   'recall': 0.7085561497326203,\n",
       "   'f1-score': 0.3316645807259074,\n",
       "   'support': 374},\n",
       "  'accuracy': 0.6699629171817059,\n",
       "  'macro avg': {'precision': 0.5811641588378227,\n",
       "   'recall': 0.6867378931751851,\n",
       "   'f1-score': 0.5562713547864252,\n",
       "   'support': 3236},\n",
       "  'weighted avg': {'precision': 0.8615338425428749,\n",
       "   'recall': 0.6699629171817059,\n",
       "   'f1-score': 0.7289603701951297,\n",
       "   'support': 3236}},\n",
       " 0.7190892461425202)"
      ]
     },
     "execution_count": 29,
     "metadata": {},
     "output_type": "execute_result"
    }
   ],
   "source": [
    "# Evaluate saved model\n",
    "PT_SAVE_DIR = \"./saved_data/ihm_model/\"\n",
    "PT_NAME_GLOB = \"ihm_mlp_spc10_e2_*.pt\"\n",
    "eval_model = network.IHMPreliminaryMLP(input_shape=(48, 42))\n",
    "\n",
    "model_pt = glob(os.path.join(PT_SAVE_DIR, PT_NAME_GLOB))[0]\n",
    "model_data = torch.load(model_pt, map_location=torch.device(DEVICE))\n",
    "\n",
    "eval_model.load_state_dict(model_data[\"model_state_dict\"])\n",
    "eval_model.to(DEVICE)\n",
    "eval_model.eval()\n",
    "\n",
    "# load eval set\n",
    "NUM_WORKERS = 8\n",
    "BATCH_SIZE = 256\n",
    "test_loader = DataLoader(test_set, batch_size=BATCH_SIZE, num_workers=NUM_WORKERS) # pay attention to the test set used here\n",
    "\n",
    "report.run_classificatoin_report(eval_model, test_loader)"
   ]
  },
  {
   "cell_type": "markdown",
   "metadata": {},
   "source": [
    "## 🧪 EHR Distillation"
   ]
  },
  {
   "cell_type": "markdown",
   "metadata": {},
   "source": [
    "### 🌿 Vanilla dataset distillation"
   ]
  },
  {
   "cell_type": "code",
   "execution_count": null,
   "metadata": {},
   "outputs": [],
   "source": [
    "# Vanilla Dataset Distillation intends to get dataset that is able to train a model within only 1 epoch\n",
    "\n",
    "# define hyper params\n",
    "NUM_OPTIM_IT = 1000\n",
    "EVAL_EVERY_NUM_IT = 10\n",
    "\n",
    "INIT_LR = 0.001\n",
    "STEP_SIZE = 0.001\n",
    "INIT_WEIGHTS_DISTR = \"kaiming\"\n",
    "BATCH_SIZE = 256\n",
    "NUM_SAMPLED_MODELS_TRAIN = 16\n",
    "NUM_SAMPLED_MODELS_EVAL = 4\n",
    "N_SAMPLES_PER_CLS = 10\n",
    "\n",
    "# checkpoints saving\n",
    "CHCKPNT_SAVE_DIR = \"./saved_data\"\n",
    "if not os.path.exists(CHCKPNT_SAVE_DIR):\n",
    "    os.makedirs(CHCKPNT_SAVE_DIR)\n",
    "\n",
    "# prepare dataloaders\n",
    "NUM_WORKERS = 8\n",
    "train_loader = DataLoader(train_set, BATCH_SIZE, shuffle=True, num_workers=NUM_WORKERS)\n",
    "test_loader = DataLoader(test_set, BATCH_SIZE, num_workers=NUM_WORKERS)\n",
    "\n",
    "# initialize random synth dataset\n",
    "ts_syn = torch.randn(size=(2*N_SAMPLES_PER_CLS, input_shape[0], input_shape[1]), dtype=torch.float, requires_grad=True, device=DEVICE) # device is ignored by far\n",
    "lab_syn = torch.tensor(np.array([np.ones(N_SAMPLES_PER_CLS)*i for i in (0, 1)]), dtype=torch.long, requires_grad=False, device=DEVICE).view(-1) # 1-D, length = episodes_per_cls * 2\n",
    "\n",
    "# initialize learning rate\n",
    "lr = torch.tensor([INIT_LR], dtype=torch.float, requires_grad=True, device=DEVICE) # make it learnable\n",
    "\n",
    "optimizer_ts = torch.optim.Adam([ts_syn], lr=STEP_SIZE)\n",
    "optimizer_lr = torch.optim.Adam([lr], lr=STEP_SIZE)\n",
    "\n",
    "loss_fn = torch.nn.CrossEntropyLoss()\n",
    "\n",
    "# data used for plotting curves\n",
    "optim_losses = [] # optimization objective loss each iteration\n",
    "min_optim_loss = float('inf')\n",
    "syn_lrs = [] # synthetic lr\n",
    "eval_scores_train = [] # evaluation avg roc-auc score on train set\n",
    "eval_scores_test = [] # evaluation avg roc-auc score on test set\n",
    "\n",
    "# begin training steps\n",
    "pbar = tqdm(range(NUM_OPTIM_IT), desc=\"Distilling dataset using vanilla DD\")\n",
    "for it in pbar:\n",
    "    # get a minibatch of real training data\n",
    "    # Sample from class 0\n",
    "    ts_class_0, lab_class_0 = train_set.random_sample_from_class(n_samples=BATCH_SIZE//2, cls=0)\n",
    "    # ts_class_0, lab_class_0 = train_set.first_n_samples_from_class(n_samples=BATCH_SIZE//2, cls=0)\n",
    "    # Sample from class 1\n",
    "    ts_class_1, lab_class_1 = train_set.random_sample_from_class(n_samples=BATCH_SIZE//2, cls=1)\n",
    "    # ts_class_1, lab_class_1 = train_set.first_n_samples_from_class(n_samples=BATCH_SIZE//2, cls=1)\n",
    "    # Concatenate the time series data along the first dimension (batch size)\n",
    "    ts_real = torch.cat((ts_class_0, ts_class_1), dim=0).to(DEVICE)\n",
    "    # Concatenate the labels along the 0th dimension\n",
    "    lab_real = torch.cat((lab_class_0, lab_class_1), dim=0).to(DEVICE)\n",
    "    # print(ts_real.shape, lab_real.shape) # batch_size * num_time_steps * num_features\n",
    "\n",
    "    # evaluate the distilled data every `EVAL_EVERY_NUM_IT` iterations\n",
    "    if it % EVAL_EVERY_NUM_IT == 0:\n",
    "        print(f\"Optimization iteration {it} evaluation begins...\")\n",
    "        ts_syn_chckpnt = ts_syn.detach().clone()\n",
    "        # lab_syn are not learning objectives so just use it in-place\n",
    "        lr_chckpnt = lr.detach().clone()\n",
    "        # sample a batch of models\n",
    "        sampled_models = []\n",
    "        local_train_scores = []\n",
    "        local_test_scores = []\n",
    "        for j in range(NUM_SAMPLED_MODELS_EVAL):\n",
    "            torch.random.manual_seed(int(time.time() * 1000) % 100000) # random seed\n",
    "            # torch.random.manual_seed(42) # fixed seed\n",
    "            model = network.IHMPreliminary1DCNN(input_shape=input_shape, init_distr=INIT_WEIGHTS_DISTR).to(DEVICE)\n",
    "            sampled_models.append(model)\n",
    "        for model in sampled_models:\n",
    "            model.train()\n",
    "            optimizer = torch.optim.SGD(model.parameters(), lr=lr_chckpnt.item())\n",
    "            # train the models on synthetic set\n",
    "            pred_syn = model(ts_syn_chckpnt)\n",
    "            loss_syn = loss_fn(pred_syn, lab_syn)\n",
    "            optimizer.zero_grad()\n",
    "            loss_syn.backward()\n",
    "            optimizer.step()\n",
    "        for model in sampled_models:\n",
    "            # evaluate the models on both full train set and test set\n",
    "            train_auc_roc = report.compute_roc_auc_score(model, train_loader)\n",
    "            test_auc_roc = report.compute_roc_auc_score(model, test_loader)\n",
    "            local_train_scores.append(train_auc_roc)\n",
    "            local_test_scores.append(test_auc_roc)\n",
    "        eval_scores_train.append(sum(local_train_scores) / len(local_train_scores))\n",
    "        eval_scores_test.append(sum(local_test_scores) / len(local_test_scores))\n",
    "        print(f\"Optimization iteration {it}, eval score (train): {eval_scores_train[-1]:.4f}, eval score (test): {eval_scores_test[-1]:.4f}\")\n",
    "    \n",
    "    # sample a batch of models\n",
    "    sampled_models = []\n",
    "    for j in range(NUM_SAMPLED_MODELS_TRAIN):\n",
    "        torch.random.manual_seed(int(time.time() * 1000) % 100000) # random seed\n",
    "        # torch.random.manual_seed(42) # fixed seed\n",
    "        model = network.IHMPreliminary1DCNN(input_shape=input_shape, init_distr=INIT_WEIGHTS_DISTR).to(DEVICE)\n",
    "        sampled_models.append(model)\n",
    "        \n",
    "    optimizer_ts.zero_grad()\n",
    "    optimizer_lr.zero_grad()\n",
    "\n",
    "    losses = []\n",
    "    for model in sampled_models:\n",
    "        # Step 1: Train each sampled model on synthetic dataset\n",
    "        model.train()\n",
    "        pred_syn = model(ts_syn)\n",
    "        loss_syn = loss_fn(pred_syn, lab_syn)\n",
    "        \n",
    "        for m in model.modules():\n",
    "            param_names = []\n",
    "            new_params = []\n",
    "            for n, p in m.named_parameters(recurse=False): # n is the param's name alone instead of \"module.name\"\n",
    "                gp, = torch.autograd.grad(loss_syn, p, create_graph=True) # enabling higher-order derivatives\n",
    "                new_p = p - lr * gp\n",
    "                new_p.to(DEVICE)\n",
    "                param_names.append(n) # save them, to delete leaf params later in another enumeration\n",
    "                new_params.append(new_p) # save them, to reset non-leaf params later in another enumeration\n",
    "            for i, n in enumerate(param_names):\n",
    "                delattr(m, n)\n",
    "                setattr(m, n, new_params[i])\n",
    "\n",
    "        # Step 2: Evaluate the objective function on real training data\n",
    "        pred_real = model(ts_real)\n",
    "        loss_real = loss_fn(pred_real, lab_real)\n",
    "        losses.append(loss_real)\n",
    "\n",
    "        # Clear gradients for the next model\n",
    "        model.zero_grad()\n",
    "\n",
    "    # Check if params are swapped as non-leaves\n",
    "    # for model in sampled_models:\n",
    "    #     for m in model.modules():\n",
    "    #         for n, p in m.named_parameters(recurse=False): # name is the param's name alone instead of module.name\n",
    "    #             print(p.grad_fn)\n",
    "    \n",
    "    # Step 3: Update synthetic data and learnable learning rate\n",
    "    total_loss = sum(losses)\n",
    "    total_loss.backward()  # Compute gradients based on real data losses\n",
    "\n",
    "    # Update synthetic data and learning rate\n",
    "    # print(lr.grad) # shouldn't be none\n",
    "    # print(ts_syn.grad) # shouldn't be none\n",
    "    optimizer_ts.step()\n",
    "    optimizer_lr.step()\n",
    "\n",
    "    # Logging the progress\n",
    "    pbar.set_postfix({\"loss\": f\"{total_loss.item():.4f}\",\n",
    "                      \"learnable lr\": f\"{lr.item()}\",\n",
    "                      })\n",
    "    optim_losses.append(total_loss.item())\n",
    "    syn_lrs.append(lr.item())\n",
    "\n",
    "    if total_loss.item() < min_optim_loss or it >= NUM_OPTIM_IT - 1: # save checkpoint\n",
    "        min_optim_loss = total_loss.item()\n",
    "        print(f\"New best! Saving checkpoint iteration {it}...\")\n",
    "        checkpoint = {\n",
    "            \"it\": it,\n",
    "            \"ts_syn\": ts_syn.detach().clone(),\n",
    "            \"lab_syn\": lab_syn.detach().clone(),\n",
    "            'optim_losses': optim_losses,\n",
    "            'syn_lrs': syn_lrs,\n",
    "            'eval_scores_train': eval_scores_train,\n",
    "            'eval_scores_test': eval_scores_test,\n",
    "        }\n",
    "        # Save checkpoint\n",
    "        torch.save(checkpoint, os.path.join(CHCKPNT_SAVE_DIR, 'distillation_checkpoint.pth'))\n",
    "        print(f\"Checkpoint at iteration {it} saved\")\n",
    "    "
   ]
  },
  {
   "cell_type": "markdown",
   "metadata": {},
   "source": [
    "### 🌈 Distill by matching gradients"
   ]
  },
  {
   "cell_type": "code",
   "execution_count": 21,
   "metadata": {},
   "outputs": [
    {
     "name": "stdout",
     "output_type": "stream",
     "text": [
      "Ready for training\n"
     ]
    },
    {
     "data": {
      "application/vnd.jupyter.widget-view+json": {
       "model_id": "ef945399d3a746d499f8a619d3665207",
       "version_major": 2,
       "version_minor": 0
      },
      "text/plain": [
       "Training iteration:   0%|          | 0/100 [00:00<?, ?it/s]"
      ]
     },
     "metadata": {},
     "output_type": "display_data"
    },
    {
     "name": "stdout",
     "output_type": "stream",
     "text": [
      "Distillation iteration 0 evaluation begins...\n",
      "Training 4 models for evaluation done. Generating classification reports...\n"
     ]
    },
    {
     "data": {
      "application/vnd.jupyter.widget-view+json": {
       "model_id": "0ceacf984ff14e9288508aa2a2485e17",
       "version_major": 2,
       "version_minor": 0
      },
      "text/plain": [
       "Generating classification reports for each model...:   0%|          | 0/4 [00:00<?, ?it/s]"
      ]
     },
     "metadata": {},
     "output_type": "display_data"
    },
    {
     "name": "stdout",
     "output_type": "stream",
     "text": [
      "Optimization iteration 0, eval score (train): 0.4979, eval score (test): 0.4794\n",
      "Distillation iteration 10 evaluation begins...\n",
      "Training 4 models for evaluation done. Generating classification reports...\n"
     ]
    },
    {
     "data": {
      "application/vnd.jupyter.widget-view+json": {
       "model_id": "b24e44e73ccb4650ae5eb0d373ab216c",
       "version_major": 2,
       "version_minor": 0
      },
      "text/plain": [
       "Generating classification reports for each model...:   0%|          | 0/4 [00:00<?, ?it/s]"
      ]
     },
     "metadata": {},
     "output_type": "display_data"
    },
    {
     "name": "stdout",
     "output_type": "stream",
     "text": [
      "Optimization iteration 10, eval score (train): 0.4948, eval score (test): 0.5009\n",
      "Distillation iteration 20 evaluation begins...\n",
      "Training 4 models for evaluation done. Generating classification reports...\n"
     ]
    },
    {
     "data": {
      "application/vnd.jupyter.widget-view+json": {
       "model_id": "e07ff5effb424dc6b6876d6b86ab2de5",
       "version_major": 2,
       "version_minor": 0
      },
      "text/plain": [
       "Generating classification reports for each model...:   0%|          | 0/4 [00:00<?, ?it/s]"
      ]
     },
     "metadata": {},
     "output_type": "display_data"
    },
    {
     "name": "stdout",
     "output_type": "stream",
     "text": [
      "Optimization iteration 20, eval score (train): 0.4986, eval score (test): 0.4995\n",
      "Distillation iteration 30 evaluation begins...\n",
      "Training 4 models for evaluation done. Generating classification reports...\n"
     ]
    },
    {
     "data": {
      "application/vnd.jupyter.widget-view+json": {
       "model_id": "956d82e0d9d948d18579019705eae605",
       "version_major": 2,
       "version_minor": 0
      },
      "text/plain": [
       "Generating classification reports for each model...:   0%|          | 0/4 [00:00<?, ?it/s]"
      ]
     },
     "metadata": {},
     "output_type": "display_data"
    },
    {
     "name": "stdout",
     "output_type": "stream",
     "text": [
      "Optimization iteration 30, eval score (train): 0.5496, eval score (test): 0.5577\n",
      "Distillation iteration 40 evaluation begins...\n",
      "Training 4 models for evaluation done. Generating classification reports...\n"
     ]
    },
    {
     "data": {
      "application/vnd.jupyter.widget-view+json": {
       "model_id": "5bd3c7a4bc2e463ead1867bf1543e0f7",
       "version_major": 2,
       "version_minor": 0
      },
      "text/plain": [
       "Generating classification reports for each model...:   0%|          | 0/4 [00:00<?, ?it/s]"
      ]
     },
     "metadata": {},
     "output_type": "display_data"
    },
    {
     "name": "stdout",
     "output_type": "stream",
     "text": [
      "Optimization iteration 40, eval score (train): 0.4955, eval score (test): 0.5106\n",
      "Distillation iteration 50 evaluation begins...\n",
      "Training 4 models for evaluation done. Generating classification reports...\n"
     ]
    },
    {
     "data": {
      "application/vnd.jupyter.widget-view+json": {
       "model_id": "b479805c2a574d66bbc332a63c813633",
       "version_major": 2,
       "version_minor": 0
      },
      "text/plain": [
       "Generating classification reports for each model...:   0%|          | 0/4 [00:00<?, ?it/s]"
      ]
     },
     "metadata": {},
     "output_type": "display_data"
    },
    {
     "name": "stdout",
     "output_type": "stream",
     "text": [
      "Optimization iteration 50, eval score (train): 0.5499, eval score (test): 0.5464\n"
     ]
    },
    {
     "ename": "KeyboardInterrupt",
     "evalue": "",
     "output_type": "error",
     "traceback": [
      "\u001b[0;31m---------------------------------------------------------------------------\u001b[0m",
      "\u001b[0;31mKeyboardInterrupt\u001b[0m                         Traceback (most recent call last)",
      "Cell \u001b[0;32mIn[21], line 93\u001b[0m\n\u001b[1;32m     91\u001b[0m loss \u001b[39m=\u001b[39m torch\u001b[39m.\u001b[39mtensor(\u001b[39m0.0\u001b[39m)\u001b[39m.\u001b[39mto(DEVICE)\n\u001b[1;32m     92\u001b[0m \u001b[39mfor\u001b[39;00m \u001b[39mcls\u001b[39m \u001b[39min\u001b[39;00m (\u001b[39m0\u001b[39m, \u001b[39m1\u001b[39m):\n\u001b[0;32m---> 93\u001b[0m     ts_real, lab_real \u001b[39m=\u001b[39m train_set\u001b[39m.\u001b[39;49mrandom_sample_from_class(n_samples\u001b[39m=\u001b[39;49mREAL_BATCH_SIZE, \u001b[39mcls\u001b[39;49m\u001b[39m=\u001b[39;49m\u001b[39mcls\u001b[39;49m, no_duplicate\u001b[39m=\u001b[39;49m\u001b[39mTrue\u001b[39;49;00m)\n\u001b[1;32m     94\u001b[0m     ts_real, lab_real \u001b[39m=\u001b[39m ts_real\u001b[39m.\u001b[39mto(DEVICE), lab_real\u001b[39m.\u001b[39mto(DEVICE)\n\u001b[1;32m     95\u001b[0m     ts_syn \u001b[39m=\u001b[39m episodes_syn[\u001b[39mcls\u001b[39m\u001b[39m*\u001b[39mN_SAMPLES_PER_CLS: (\u001b[39mcls\u001b[39m\u001b[39m+\u001b[39m\u001b[39m1\u001b[39m)\u001b[39m*\u001b[39mN_SAMPLES_PER_CLS]\n",
      "File \u001b[0;32m/project/ruishanl_1185/EHR-Distillation/utils/dataset.py:116\u001b[0m, in \u001b[0;36mIHMPreliminaryDatasetReal.random_sample_from_class\u001b[0;34m(self, n_samples, cls, no_duplicate)\u001b[0m\n\u001b[1;32m    114\u001b[0m label_tensors \u001b[39m=\u001b[39m []\n\u001b[1;32m    115\u001b[0m \u001b[39mfor\u001b[39;00m i \u001b[39min\u001b[39;00m sampled_indices:\n\u001b[0;32m--> 116\u001b[0m     data_tensor, label_tensor \u001b[39m=\u001b[39m \u001b[39mself\u001b[39;49m\u001b[39m.\u001b[39;49m\u001b[39m__getitem__\u001b[39;49m(i)\n\u001b[1;32m    117\u001b[0m     data_tensors\u001b[39m.\u001b[39mappend(data_tensor)\n\u001b[1;32m    118\u001b[0m     label_tensors\u001b[39m.\u001b[39mappend(label_tensor)\n",
      "File \u001b[0;32m/project/ruishanl_1185/EHR-Distillation/utils/dataset.py:88\u001b[0m, in \u001b[0;36mIHMPreliminaryDatasetReal.__getitem__\u001b[0;34m(self, idx)\u001b[0m\n\u001b[1;32m     85\u001b[0m file_path \u001b[39m=\u001b[39m \u001b[39mself\u001b[39m\u001b[39m.\u001b[39mepisode_paths[idx]\n\u001b[1;32m     87\u001b[0m \u001b[39m# read csv, normalize, expand categorical features to one-hot, and form a tensor sized num_features * num_time_steps\u001b[39;00m\n\u001b[0;32m---> 88\u001b[0m data \u001b[39m=\u001b[39m pd\u001b[39m.\u001b[39;49mread_csv(file_path, index_col\u001b[39m=\u001b[39;49m\u001b[39m0\u001b[39;49m)\n\u001b[1;32m     89\u001b[0m processed_data \u001b[39m=\u001b[39m []\n\u001b[1;32m     90\u001b[0m \u001b[39mfor\u001b[39;00m col_name, col_data \u001b[39min\u001b[39;00m data\u001b[39m.\u001b[39mitems():\n",
      "File \u001b[0;32m~/.conda/envs/playground/lib/python3.11/site-packages/pandas/io/parsers/readers.py:948\u001b[0m, in \u001b[0;36mread_csv\u001b[0;34m(filepath_or_buffer, sep, delimiter, header, names, index_col, usecols, dtype, engine, converters, true_values, false_values, skipinitialspace, skiprows, skipfooter, nrows, na_values, keep_default_na, na_filter, verbose, skip_blank_lines, parse_dates, infer_datetime_format, keep_date_col, date_parser, date_format, dayfirst, cache_dates, iterator, chunksize, compression, thousands, decimal, lineterminator, quotechar, quoting, doublequote, escapechar, comment, encoding, encoding_errors, dialect, on_bad_lines, delim_whitespace, low_memory, memory_map, float_precision, storage_options, dtype_backend)\u001b[0m\n\u001b[1;32m    935\u001b[0m kwds_defaults \u001b[39m=\u001b[39m _refine_defaults_read(\n\u001b[1;32m    936\u001b[0m     dialect,\n\u001b[1;32m    937\u001b[0m     delimiter,\n\u001b[0;32m   (...)\u001b[0m\n\u001b[1;32m    944\u001b[0m     dtype_backend\u001b[39m=\u001b[39mdtype_backend,\n\u001b[1;32m    945\u001b[0m )\n\u001b[1;32m    946\u001b[0m kwds\u001b[39m.\u001b[39mupdate(kwds_defaults)\n\u001b[0;32m--> 948\u001b[0m \u001b[39mreturn\u001b[39;00m _read(filepath_or_buffer, kwds)\n",
      "File \u001b[0;32m~/.conda/envs/playground/lib/python3.11/site-packages/pandas/io/parsers/readers.py:617\u001b[0m, in \u001b[0;36m_read\u001b[0;34m(filepath_or_buffer, kwds)\u001b[0m\n\u001b[1;32m    614\u001b[0m     \u001b[39mreturn\u001b[39;00m parser\n\u001b[1;32m    616\u001b[0m \u001b[39mwith\u001b[39;00m parser:\n\u001b[0;32m--> 617\u001b[0m     \u001b[39mreturn\u001b[39;00m parser\u001b[39m.\u001b[39;49mread(nrows)\n",
      "File \u001b[0;32m~/.conda/envs/playground/lib/python3.11/site-packages/pandas/io/parsers/readers.py:1748\u001b[0m, in \u001b[0;36mTextFileReader.read\u001b[0;34m(self, nrows)\u001b[0m\n\u001b[1;32m   1741\u001b[0m nrows \u001b[39m=\u001b[39m validate_integer(\u001b[39m\"\u001b[39m\u001b[39mnrows\u001b[39m\u001b[39m\"\u001b[39m, nrows)\n\u001b[1;32m   1742\u001b[0m \u001b[39mtry\u001b[39;00m:\n\u001b[1;32m   1743\u001b[0m     \u001b[39m# error: \"ParserBase\" has no attribute \"read\"\u001b[39;00m\n\u001b[1;32m   1744\u001b[0m     (\n\u001b[1;32m   1745\u001b[0m         index,\n\u001b[1;32m   1746\u001b[0m         columns,\n\u001b[1;32m   1747\u001b[0m         col_dict,\n\u001b[0;32m-> 1748\u001b[0m     ) \u001b[39m=\u001b[39m \u001b[39mself\u001b[39;49m\u001b[39m.\u001b[39;49m_engine\u001b[39m.\u001b[39;49mread(  \u001b[39m# type: ignore[attr-defined]\u001b[39;49;00m\n\u001b[1;32m   1749\u001b[0m         nrows\n\u001b[1;32m   1750\u001b[0m     )\n\u001b[1;32m   1751\u001b[0m \u001b[39mexcept\u001b[39;00m \u001b[39mException\u001b[39;00m:\n\u001b[1;32m   1752\u001b[0m     \u001b[39mself\u001b[39m\u001b[39m.\u001b[39mclose()\n",
      "File \u001b[0;32m~/.conda/envs/playground/lib/python3.11/site-packages/pandas/io/parsers/c_parser_wrapper.py:234\u001b[0m, in \u001b[0;36mCParserWrapper.read\u001b[0;34m(self, nrows)\u001b[0m\n\u001b[1;32m    232\u001b[0m \u001b[39mtry\u001b[39;00m:\n\u001b[1;32m    233\u001b[0m     \u001b[39mif\u001b[39;00m \u001b[39mself\u001b[39m\u001b[39m.\u001b[39mlow_memory:\n\u001b[0;32m--> 234\u001b[0m         chunks \u001b[39m=\u001b[39m \u001b[39mself\u001b[39;49m\u001b[39m.\u001b[39;49m_reader\u001b[39m.\u001b[39;49mread_low_memory(nrows)\n\u001b[1;32m    235\u001b[0m         \u001b[39m# destructive to chunks\u001b[39;00m\n\u001b[1;32m    236\u001b[0m         data \u001b[39m=\u001b[39m _concatenate_chunks(chunks)\n",
      "\u001b[0;31mKeyboardInterrupt\u001b[0m: "
     ]
    }
   ],
   "source": [
    "# Distill with matching loss\n",
    "# TODO: device\n",
    "\n",
    "# define hyper params\n",
    "TRAIN_IT = 100\n",
    "EVAL_EVERY_NUM_IT = 10\n",
    "EVAL_NUM_EPOCHS = 50\n",
    "NUM_SAMPLED_MODELS_EVAL = 4\n",
    "LR_DATA = 0.01\n",
    "LR_NET = 0.01\n",
    "NUM_OUTER_LOOP = 10\n",
    "NUM_INNER_LOOP = 50\n",
    "REAL_BATCH_SIZE = 2048\n",
    "SYN_BATCH_SIZE = 256\n",
    "\n",
    "N_SAMPLES_PER_CLS = 50\n",
    "INIT_WEIGHTS_DISTR = None\n",
    "\n",
    "# prepare dataloaders\n",
    "NUM_WORKERS = 8\n",
    "train_loader = DataLoader(train_set, REAL_BATCH_SIZE, shuffle=True, num_workers=NUM_WORKERS)\n",
    "test_loader = DataLoader(test_set, REAL_BATCH_SIZE, num_workers=NUM_WORKERS)\n",
    "\n",
    "# initialize synthetic data\n",
    "episodes_syn = torch.randn(size=(2*N_SAMPLES_PER_CLS, input_shape[0], input_shape[1]), dtype=torch.float, requires_grad=True, device=DEVICE)\n",
    "labels_syn = torch.tensor(np.array([np.ones(N_SAMPLES_PER_CLS)*i for i in (0, 1)]), dtype=torch.long, requires_grad=False, device=DEVICE).view(-1) # 1D, length = episodes_per_cls * 2\n",
    "\n",
    "# define training optimizers and criterion\n",
    "optimizer_ts = torch.optim.SGD([episodes_syn,], lr=LR_DATA, momentum=0.5) # optimizer for synthetic data\n",
    "optimizer_ts.zero_grad()\n",
    "criterion = nn.CrossEntropyLoss()\n",
    "print(\"Ready for training\")\n",
    "\n",
    "eval_scores_train = [] # evaluation avg roc-auc score on train set\n",
    "eval_scores_test = [] # evaluation avg roc-auc score on test set\n",
    "\n",
    "PT_SAVE_DIR = \"./saved_data\"\n",
    "if not os.path.exists(PT_SAVE_DIR):\n",
    "    os.makedirs(PT_SAVE_DIR)\n",
    "pbar = tqdm(range(TRAIN_IT), desc=\"Training iteration\")\n",
    "for it in pbar:\n",
    "\n",
    "    # evaluate the distilled data every `EVAL_EVERY_NUM_IT` iterations\n",
    "    if it % EVAL_EVERY_NUM_IT == 0:\n",
    "        print(f\"Distillation iteration {it} evaluation begins...\")\n",
    "        episodes_syn_chckpnt = copy.deepcopy(episodes_syn.detach())\n",
    "        syn_dataset = dataset.TensorDataset(episodes_syn_chckpnt, copy.deepcopy(labels_syn)) # lab_syn are not learning objectives so just use it in-place\n",
    "        syn_loader = DataLoader(syn_dataset, SYN_BATCH_SIZE, shuffle=True)\n",
    "        \n",
    "        # sample a batch of models\n",
    "        sampled_models = []\n",
    "        local_train_scores = []\n",
    "        local_test_scores = []\n",
    "        for j in range(NUM_SAMPLED_MODELS_EVAL):\n",
    "            torch.random.manual_seed(int(time.time() * 1000) % 100000) # random seed\n",
    "            # torch.random.manual_seed(42) # fixed seed\n",
    "            model = network.IHMPreliminary1DCNN(input_shape=input_shape, init_distr=INIT_WEIGHTS_DISTR).to(DEVICE)\n",
    "            optimizer = torch.optim.SGD(model.parameters(), lr=LR_NET)\n",
    "            sampled_models.append(model)\n",
    "        for model in sampled_models:\n",
    "            # update network\n",
    "            for e in range(EVAL_NUM_EPOCHS):\n",
    "                train.epoch(\"train\", syn_loader, model, criterion, optimizer=optimizer)\n",
    "        \n",
    "        print(f\"Training {NUM_SAMPLED_MODELS_EVAL} models for evaluation done. Generating classification reports...\")\n",
    "        sub_pbar = tqdm(range(NUM_SAMPLED_MODELS_EVAL), desc=\"Generating classification reports for each model...\",leave=False)\n",
    "        for idx in sub_pbar:\n",
    "            model = sampled_models[idx]\n",
    "            # evaluate the models on both full train set and test set\n",
    "            train_auc_roc = report.compute_roc_auc_score(model, train_loader)\n",
    "            test_auc_roc = report.compute_roc_auc_score(model, test_loader)\n",
    "            local_train_scores.append(train_auc_roc)\n",
    "            local_test_scores.append(test_auc_roc)\n",
    "        eval_scores_train.append(sum(local_train_scores) / len(local_train_scores))\n",
    "        eval_scores_test.append(sum(local_test_scores) / len(local_test_scores))\n",
    "        print(f\"Optimization iteration {it}, eval score (train): {eval_scores_train[-1]:.4f}, eval score (test): {eval_scores_test[-1]:.4f}\")\n",
    "    \n",
    "\n",
    "    # Train synthetic data\n",
    "    torch.random.manual_seed(int(time.time() * 1000) % 100000) # random init network\n",
    "    net = network.IHMPreliminary1DCNN(input_shape=input_shape, init_distr=INIT_WEIGHTS_DISTR).to(DEVICE)\n",
    "    net.train()\n",
    "    net_params = list(net.parameters())\n",
    "\n",
    "    optimizer_net = torch.optim.SGD(net.parameters(), lr=LR_NET)\n",
    "    optimizer_net.zero_grad()\n",
    "    loss_avg = 0\n",
    "\n",
    "    for ol in range(NUM_OUTER_LOOP):\n",
    "        # update synthetic data\n",
    "        loss = torch.tensor(0.0).to(DEVICE)\n",
    "        for cls in (0, 1):\n",
    "            ts_real, lab_real = train_set.random_sample_from_class(n_samples=REAL_BATCH_SIZE, cls=cls, no_duplicate=True)\n",
    "            ts_real, lab_real = ts_real.to(DEVICE), lab_real.to(DEVICE)\n",
    "            ts_syn = episodes_syn[cls*N_SAMPLES_PER_CLS: (cls+1)*N_SAMPLES_PER_CLS]\n",
    "            lab_syn = labels_syn[cls*N_SAMPLES_PER_CLS: (cls+1)*N_SAMPLES_PER_CLS]\n",
    "\n",
    "            out_real = net(ts_real)\n",
    "            loss_real = criterion(out_real, lab_real)\n",
    "            grad_real = torch.autograd.grad(loss_real, net_params)\n",
    "            grad_real = [_.detach().clone() for _ in grad_real]\n",
    "\n",
    "            out_syn = net(ts_syn)\n",
    "            loss_syn = criterion(out_syn, lab_syn)\n",
    "            grad_syn = torch.autograd.grad(loss_syn, net_params, create_graph=True) # create_graph: will be used to compute higher-order derivatives\n",
    "\n",
    "            # compute gradient matching loss, here using MSE, instead of the one proposed in DCwMG because it's too complicated\n",
    "            # dis = torch.tensor(0.0).to(DEVICE)\n",
    "            grad_real_vec = []\n",
    "            grad_syn_vec = []\n",
    "            for ig in range(len(grad_real)):\n",
    "                grad_real_vec.append(grad_real[ig].reshape((-1)))\n",
    "                grad_syn_vec.append(grad_syn[ig].reshape((-1)))\n",
    "            grad_real_vec = torch.cat(grad_real_vec, dim=0)\n",
    "            grad_syn_vec = torch.cat(grad_syn_vec, dim=0)\n",
    "            dis = torch.sum((grad_syn_vec - grad_real_vec)**2)\n",
    "\n",
    "            loss += dis\n",
    "        \n",
    "        optimizer_ts.zero_grad()\n",
    "        loss.backward()\n",
    "        optimizer_ts.step()\n",
    "        loss_avg += loss.item()\n",
    "\n",
    "        if ol == NUM_OUTER_LOOP - 1:\n",
    "            break\n",
    "\n",
    "        # update network\n",
    "        episodes_syn_train, labels_syn_train = copy.deepcopy(episodes_syn.detach()), copy.deepcopy(labels_syn.detach())  # avoid any unaware modification\n",
    "        syn_dataset = dataset.TensorDataset(episodes_syn_train, labels_syn_train)\n",
    "        syn_loader = DataLoader(syn_dataset, SYN_BATCH_SIZE, shuffle=True)\n",
    "        for il in range(NUM_INNER_LOOP):\n",
    "            train.epoch(\"train\", syn_loader, net, criterion, optimizer=optimizer_net)\n",
    "\n",
    "    loss_avg /= (2 * NUM_OUTER_LOOP)\n",
    "    pbar.set_postfix({\"avg loss\": f\"{loss_avg:.4f}\",\n",
    "                      })\n",
    "\n",
    "torch.save({\"data\": (copy.deepcopy(episodes_syn.detach().cpu()), copy.deepcopy(labels_syn.detach().cpu()))},\n",
    "           os.path.join(PT_SAVE_DIR, \"distilled_dataset.pt\")\n",
    "           )\n",
    "\n"
   ]
  },
  {
   "cell_type": "markdown",
   "metadata": {},
   "source": [
    "## 🤔️ Evaluate distilled dataset"
   ]
  },
  {
   "cell_type": "code",
   "execution_count": null,
   "metadata": {},
   "outputs": [],
   "source": [
    "# Simultaneously train 2 models on distilled dataset and original dataset, compare performance\n",
    "N_SAMPLES_PER_CLS = 10\n",
    "\n",
    "REAL_BATCH_SIZE = 256\n",
    "SYN_BATCH_SIZE = 2*N_SAMPLES_PER_CLS\n",
    "\n",
    "pt_save_dir = \"./saved_data\"\n",
    "syn_pt = \"distilled_dataset.pt\"\n",
    "syn_pt_path = glob(os.path.join(pt_save_dir, syn_pt))[0]\n",
    "syn_data = torch.load(syn_pt_path, map_location=torch.device(DEVICE))\n",
    "syn_ts, syn_lab = syn_data[\"data\"]\n",
    "syn_ts = syn_ts.to(DEVICE)\n",
    "syn_lab = syn_lab.to(DEVICE)\n",
    "syn_set = dataset.TensorDataset(syn_ts, syn_lab)\n",
    "syn_loader = DataLoader(syn_set, 2*N_SAMPLES_PER_CLS)\n",
    "\n",
    "NUM_WORKERS = 8\n",
    "real_set = dataset.IHMPreliminaryDatasetReal(\n",
    "    dir=\"./data/mimic3/ihm_preliminary/train/\",\n",
    "    dstype=\"train\",\n",
    "    avg_dict=continuous_avgs_train,\n",
    "    std_dict=continuous_stds_train,\n",
    "    numcls_dict=categorical_numcls,\n",
    "    balance=True,\n",
    "    mask=True,\n",
    "    )\n",
    "real_loader = DataLoader(real_set, REAL_BATCH_SIZE, num_workers=NUM_WORKERS)\n",
    "\n",
    "model_syn = network.IHMPreliminary1DCNN().to(DEVICE)\n",
    "model_real = network.IHMPreliminary1DCNN().to(DEVICE)\n",
    "\n",
    "train_epoch = 100\n",
    "lr = 0.01\n",
    "\n",
    "optimizer_syn = torch.optim.SGD(model_syn.parameters(), lr)\n",
    "optimizer_syn.zero_grad()\n",
    "optimizer_real = torch.optim.SGD(model_real.parameters(), lr)\n",
    "optimizer_real.zero_grad()\n",
    "criterion = nn.CrossEntropyLoss()\n",
    "\n",
    "model_syn.train()\n",
    "model_real.train()\n",
    "\n",
    "pbar = tqdm(range(train_epoch), desc=\"Evaluating synthetic dataset\")\n",
    "for e in pbar:\n",
    "    train.epoch(\"train\", syn_loader, model_syn, criterion, optimizer_syn, DEVICE)\n",
    "    syn_loss, syn_acc = train.epoch(\"test\", real_loader, model_syn, criterion, optimizer_syn, DEVICE)\n",
    "    real_loss, real_acc = train.epoch(\"train\", real_loader, model_real, criterion, optimizer_real, DEVICE)\n",
    "    \n",
    "    pbar.set_description(f\"Evaluating epoch {e}\\nsyn loss = {syn_loss}, syn acc = {syn_acc}\\nreal loss = {real_loss}, real acc = {real_acc}\")\n"
   ]
  }
 ],
 "metadata": {
  "kernelspec": {
   "display_name": "playground",
   "language": "python",
   "name": "python3"
  },
  "language_info": {
   "codemirror_mode": {
    "name": "ipython",
    "version": 3
   },
   "file_extension": ".py",
   "mimetype": "text/x-python",
   "name": "python",
   "nbconvert_exporter": "python",
   "pygments_lexer": "ipython3",
   "version": "3.11.5"
  }
 },
 "nbformat": 4,
 "nbformat_minor": 2
}
